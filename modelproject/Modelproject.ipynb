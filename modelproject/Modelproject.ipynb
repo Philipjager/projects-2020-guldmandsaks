{
 "cells": [
  {
   "cell_type": "code",
   "execution_count": 30,
   "metadata": {},
   "outputs": [],
   "source": [
    "import numpy as np\n",
    "import scipy as sp\n",
    "from scipy import linalg\n",
    "from scipy import optimize\n",
    "from scipy import interpolate\n",
    "import sympy as sm\n",
    "import matplotlib.pyplot as plt"
   ]
  },
  {
   "cell_type": "markdown",
   "metadata": {},
   "source": [
    "# Optimal choices under different risk-profiles"
   ]
  },
  {
   "cell_type": "markdown",
   "metadata": {},
   "source": [
    "In this project we're going to look at an investor, who can buy different risky stocks, and how his optimal choice changes, depending on his utility function. \n",
    "To begin, we will consider two stock (denoted q), valued at 10 each, and an initial investor budget, in period 0, of 100 (denoted w) (all currency in dollars): \n",
    "$$ q_a = q_b = 10, \\hspace{1mm} w_0 = 100 $$\n",
    "\n",
    "The period after they are acquired their value will be 15 and 5, respectively, in state u, or 5 and 12, respectively, in state d. Both states are equally probable. Denote the probabillity p, and the payoff r: \n",
    "$$ p = \\frac{1}{2}, \\hspace{1mm} r_{au} = 15, \\hspace{1mm} r_{bu} = 5, \\hspace{1mm} r_{ad} = 5, \\hspace{1mm} r_{bd} = 12 \\\\ $$\n",
    "\n",
    "The investors utility function can be written as: \n",
    "$$ u(w) = \\sqrt{w} $$\n",
    "\n",
    "Thus, he wants to maximise his expected utility. Let a and b denote the number of options bought, then the problem can be written as: \n",
    "$$ max_{a,b} \\quad E(u(w_1)) = p \\cdot \\sqrt{w_{1u}} + (1-p) \\cdot \\sqrt{w_{1d}} \\\\ \n",
    "w_1 = a \\cdot r_{a} + b \\cdot r_b \\\\ \n",
    "w_0 \\geq a \\cdot q_{a} + b \\cdot q_b \\\\\n",
    "a,b \\geq 0 $$ "
   ]
  },
  {
   "cell_type": "code",
   "execution_count": 31,
   "metadata": {},
   "outputs": [
    {
     "name": "stdout",
     "output_type": "stream",
     "text": [
      "Optimization terminated successfully.    (Exit mode 0)\n",
      "            Current function value: -9.700883611487832\n",
      "            Iterations: 5\n",
      "            Function evaluations: 21\n",
      "            Gradient evaluations: 5\n"
     ]
    }
   ],
   "source": [
    "qa = 10\n",
    "qb = 10 \n",
    "w0 = 100\n",
    "p = 0.5\n",
    "rau = 15\n",
    "rbu = 5\n",
    "rad = 5\n",
    "rbd = 12\n",
    "\n",
    "\n",
    "# We define the expected utility function, here negative so we can minimize it later \n",
    "def _Eu(a,b):\n",
    "    return -(p*np.sqrt(a*rau+b*rbu)+(1-p)*np.sqrt(a*rad+b*rbd))\n",
    "\n",
    "# Here we define the python-compatible version for use in the optimization, that is defining the shares in a tuple\n",
    "def Eu(x):\n",
    "    return _Eu(x[0],x[1])\n",
    "\n",
    "# We define the budget constraint, which is violated if negative\n",
    "def constraints(x):\n",
    "    return w0-x[0]*qa-x[1]*qb\n",
    "\n",
    "# The investor is bound to use, at most, his whole budget on one option, which we define here. We also define the budget constraint, to be used with the minimize method below. \n",
    "bound = (0,qa*w0)\n",
    "bounds = (bound, bound)\n",
    "ineq_con = {'type': 'ineq', 'fun': constraints}\n",
    "\n",
    "# Initial guess: \n",
    "initial_guess = [5,5]\n",
    "\n",
    "# We call the minimize method from scipy and hand it our expectedutility function, initial guess, bounds and constraints. \n",
    "result = sp.optimize.minimize(Eu, initial_guess, method = 'SLSQP',\n",
    "                  bounds=bounds, constraints = [ineq_con],\n",
    "                  options={'disp':True})"
   ]
  },
  {
   "cell_type": "code",
   "execution_count": 32,
   "metadata": {},
   "outputs": [
    {
     "name": "stdout",
     "output_type": "stream",
     "text": [
      "\n",
      "x =  [8.02547122 1.97452878]\n"
     ]
    }
   ],
   "source": [
    "print('\\nx = ',result.x)"
   ]
  },
  {
   "cell_type": "markdown",
   "metadata": {},
   "source": [
    "We see here, that the investor buys 8 units of stock a and 2 units of stock b. This investor has a concave utility function meaning, that he is risk averse. Therefore, he faces a tradeoff between between the less risky stock b, and the higher expected return of stock a. "
   ]
  },
  {
   "cell_type": "markdown",
   "metadata": {},
   "source": [
    "# Visualisation of the results across parametrizations "
   ]
  },
  {
   "cell_type": "markdown",
   "metadata": {},
   "source": [
    "**2.1: Different values of p:** First we will solve and visualize the investment share of stock a and b for different values of the p, the probability for the state u."
   ]
  },
  {
   "cell_type": "code",
   "execution_count": 33,
   "metadata": {},
   "outputs": [
    {
     "name": "stdout",
     "output_type": "stream",
     "text": [
      "Optimization terminated successfully.    (Exit mode 0)\n",
      "            Current function value: -10.954451150103322\n",
      "            Iterations: 4\n",
      "            Function evaluations: 16\n",
      "            Gradient evaluations: 4\n",
      "Optimization terminated successfully.    (Exit mode 0)\n",
      "            Current function value: -10.522964112521338\n",
      "            Iterations: 5\n",
      "            Function evaluations: 20\n",
      "            Gradient evaluations: 5\n",
      "Optimization terminated successfully.    (Exit mode 0)\n",
      "            Current function value: -10.091477074939357\n",
      "            Iterations: 5\n",
      "            Function evaluations: 20\n",
      "            Gradient evaluations: 5\n",
      "Optimization terminated successfully.    (Exit mode 0)\n",
      "            Current function value: -9.669129324763523\n",
      "            Iterations: 7\n",
      "            Function evaluations: 28\n",
      "            Gradient evaluations: 7\n",
      "Optimization terminated successfully.    (Exit mode 0)\n",
      "            Current function value: -9.569664683651217\n",
      "            Iterations: 5\n",
      "            Function evaluations: 20\n",
      "            Gradient evaluations: 5\n",
      "Optimization terminated successfully.    (Exit mode 0)\n",
      "            Current function value: -9.946834979671262\n",
      "            Iterations: 5\n",
      "            Function evaluations: 20\n",
      "            Gradient evaluations: 5\n",
      "Optimization terminated successfully.    (Exit mode 0)\n",
      "            Current function value: -10.521988413232418\n",
      "            Iterations: 5\n",
      "            Function evaluations: 20\n",
      "            Gradient evaluations: 5\n",
      "Optimization terminated successfully.    (Exit mode 0)\n",
      "            Current function value: -11.097141846793573\n",
      "            Iterations: 5\n",
      "            Function evaluations: 20\n",
      "            Gradient evaluations: 5\n",
      "Optimization terminated successfully.    (Exit mode 0)\n",
      "            Current function value: -11.672295280354733\n",
      "            Iterations: 4\n",
      "            Function evaluations: 16\n",
      "            Gradient evaluations: 4\n",
      "Optimization terminated successfully.    (Exit mode 0)\n",
      "            Current function value: -12.247448713915889\n",
      "            Iterations: 4\n",
      "            Function evaluations: 16\n",
      "            Gradient evaluations: 4\n"
     ]
    },
    {
     "data": {
      "image/png": "[encoded data removed]",
      "text/plain": [
       "<Figure size 1008x432 with 2 Axes>"
      ]
     },
     "metadata": {
      "needs_background": "light"
     },
     "output_type": "display_data"
    }
   ],
   "source": [
    "# We create empty lists for our values of a, b & p, so that we can later plot them graphically.\n",
    "a_values = []\n",
    "b_values = []\n",
    "p_values = []\n",
    "\n",
    "# We loop through different values for p between 0 and 1, and optimize using the method SLSQP, \n",
    "# which can use bounds and constraints in multiple dimensions.\n",
    "for p in np.linspace(0,1,10):\n",
    "    result = optimize.minimize(Eu,initial_guess,method='SLSQP',bounds=bounds,constraints=[ineq_con],options={'disp':True})\n",
    "    \n",
    "    a_svar = result.x[0]\n",
    "    b_svar = result.x[1]\n",
    "\n",
    "# Now that we have created our values with the loop, we append them to our empty lists.   \n",
    "    a_values.append(a_svar)\n",
    "    b_values.append(b_svar)\n",
    "    p_values.append(p)\n",
    "\n",
    "# Now we specify that we will make a plot. \n",
    "fig = plt.figure(figsize=(14,6))\n",
    "\n",
    "# We generate our first figure (left) with 1 row and 2 columns\n",
    "ax_left = fig.add_subplot(1,2,1)\n",
    "\n",
    "# Here we plot the values for p on the x-axis and the values for a on the y-axis\n",
    "ax_left.plot(p_values,a_values)\n",
    "\n",
    "# We give the plot a title and set labels:\n",
    "ax_left.set_title('investment share stock a')\n",
    "ax_left.set_xlabel('$p$')\n",
    "ax_left.set_ylabel('$a$')\n",
    "ax_left.grid(True)\n",
    "\n",
    "# We generate our second figure (right) with 1 row and 2 columns\n",
    "ax_right = fig.add_subplot(1,2,2)\n",
    "\n",
    "# Here we plot the values for p on the x-axis and the values for b on the y-axis\n",
    "ax_right.plot(p_values,b_values)\n",
    "\n",
    "# We give the plot a title and set labels:\n",
    "ax_right.set_title('investment share stock b')\n",
    "ax_right.set_xlabel('$p$')\n",
    "ax_right.set_ylabel('$b$')\n",
    "ax_right.grid(True)"
   ]
  },
  {
   "cell_type": "markdown",
   "metadata": {},
   "source": [
    "The left plot shows that when the probability for the state u increaces so does the investment in stock a. The investment of stock a start out at 0 with the p values between 0 and 0.2. When the p is more than 0.2 the investemtn in stock a increases. Finally when the probability for the state u is more than 0.5 investment in stock a is 10 equivalent to the whole budget. The explanation is that when the probability for the state u increaces so does the expected value for stock a becauce in this state the payoff is 15 USD compared to 5 in state d.\n",
    "\n",
    "The right plot naturally has the same growth just upside down. The invesment of stock b starts out at 10 equivalent to the whole budget when p is between 0 and 0.2. For larger p values the investment in stock b descreases. When the p value is more than 0.5 investment in stock b is 0. The explanation is that when the probability for the state u increaces, the expected value for stock b decreases becauce in this state the payoff is 5 USD compared to 12 in state d."
   ]
  },
  {
   "cell_type": "markdown",
   "metadata": {},
   "source": [
    "**2.2: Different values of $r_{au}$:** Now we solve and visualize the investment share of stock a and b for different values of the $r_{au}$."
   ]
  },
  {
   "cell_type": "code",
   "execution_count": 34,
   "metadata": {},
   "outputs": [
    {
     "name": "stdout",
     "output_type": "stream",
     "text": [
      "Optimization terminated successfully.    (Exit mode 0)\n",
      "            Current function value: -7.0710678118654755\n",
      "            Iterations: 4\n",
      "            Function evaluations: 16\n",
      "            Gradient evaluations: 4\n",
      "Optimization terminated successfully.    (Exit mode 0)\n",
      "            Current function value: -7.071067811865476\n",
      "            Iterations: 5\n",
      "            Function evaluations: 20\n",
      "            Gradient evaluations: 5\n",
      "Optimization terminated successfully.    (Exit mode 0)\n",
      "            Current function value: -7.0710678118654755\n",
      "            Iterations: 5\n",
      "            Function evaluations: 20\n",
      "            Gradient evaluations: 5\n",
      "Optimization terminated successfully.    (Exit mode 0)\n",
      "            Current function value: -7.0710678118654755\n",
      "            Iterations: 1\n",
      "            Function evaluations: 4\n",
      "            Gradient evaluations: 1\n",
      "Optimization terminated successfully.    (Exit mode 0)\n",
      "            Current function value: -8.16496580927726\n",
      "            Iterations: 5\n",
      "            Function evaluations: 20\n",
      "            Gradient evaluations: 5\n",
      "Optimization terminated successfully.    (Exit mode 0)\n",
      "            Current function value: -9.12870929175277\n",
      "            Iterations: 5\n",
      "            Function evaluations: 20\n",
      "            Gradient evaluations: 5\n",
      "Optimization terminated successfully.    (Exit mode 0)\n",
      "            Current function value: -10.00000000000001\n",
      "            Iterations: 5\n",
      "            Function evaluations: 20\n",
      "            Gradient evaluations: 5\n",
      "Optimization terminated successfully.    (Exit mode 0)\n",
      "            Current function value: -10.801234497346435\n",
      "            Iterations: 4\n",
      "            Function evaluations: 16\n",
      "            Gradient evaluations: 4\n",
      "Optimization terminated successfully.    (Exit mode 0)\n",
      "            Current function value: -11.547005383792516\n",
      "            Iterations: 4\n",
      "            Function evaluations: 16\n",
      "            Gradient evaluations: 4\n",
      "Optimization terminated successfully.    (Exit mode 0)\n",
      "            Current function value: -12.247448713915889\n",
      "            Iterations: 4\n",
      "            Function evaluations: 16\n",
      "            Gradient evaluations: 4\n"
     ]
    },
    {
     "data": {
      "image/png": "[encoded data removed]",
      "text/plain": [
       "<Figure size 1008x432 with 2 Axes>"
      ]
     },
     "metadata": {
      "needs_background": "light"
     },
     "output_type": "display_data"
    }
   ],
   "source": [
    "# We create empty lists for our values of a, b & rau, so that we can later plot them graphically.\n",
    "a_values = []\n",
    "b_values = []\n",
    "rau_values = []\n",
    "\n",
    "# We loop through different values for rau between 0 and 1, and optimize using the method SLSQP, \n",
    "# which can use bounds and constraints in multiple dimensions.\n",
    "for rau in np.linspace(0,15,10):\n",
    "    result = optimize.minimize(Eu,initial_guess,method='SLSQP',bounds=bounds,constraints=[ineq_con],options={'disp':True})\n",
    "    \n",
    "    a_svar = result.x[0]\n",
    "    b_svar = result.x[1]\n",
    "\n",
    "# Now that we have created our values with the loop, we append them to our empty lists.   \n",
    "    a_values.append(a_svar)\n",
    "    b_values.append(b_svar)\n",
    "    rau_values.append(rau)\n",
    "\n",
    "# Now we specify that we will make a plot. \n",
    "fig = plt.figure(figsize=(14,6))\n",
    "\n",
    "# We generate our first figure (left) with 1 row and 2 columns\n",
    "ax_left = fig.add_subplot(1,2,1)\n",
    "\n",
    "# Here we plot the values for rau on the x-axis and the values for a on the y-axis\n",
    "ax_left.plot(rau_values,a_values)\n",
    "\n",
    "# We give the plot a title and set labels:\n",
    "ax_left.set_title('investment share stock a')\n",
    "ax_left.set_xlabel('$rau$')\n",
    "ax_left.set_ylabel('$a$')\n",
    "ax_left.grid(True)\n",
    "\n",
    "# We generate our second figure (right) with 1 row and 2 columns\n",
    "ax_left = fig.add_subplot(1,2,2)\n",
    "\n",
    "# Here we plot the values for rau on the x-axis and the values for b on the y-axis\n",
    "ax_left.plot(rau_values,b_values)\n",
    "\n",
    "# We give the plot a title and set labels:\n",
    "ax_left.set_title('investment share stock b')\n",
    "ax_left.set_xlabel('$rau$')\n",
    "ax_left.set_ylabel('$b$')\n",
    "ax_left.grid(True)"
   ]
  },
  {
   "cell_type": "markdown",
   "metadata": {},
   "source": [
    "The left plot shows that when the value of $r_{au}$ increaces so does the investment in stock a. The investment of stock a start out at 0 with the $r_{au}$ values between 0 and 3. When the $r_{au}$ is more than 3 the investemtn in stock a increases. Finally when $r_{au}$ is more than 6.5 invesment in stock a is 10 equivalent to the whole budget. The explanation is that when $r_{au}$ increaces so does the expected value for stock a becauce $r_{au}$ is the payoff for stock a in the state u.\n",
    "\n",
    "The right plot naturally has the same growth just upside down. The invesment of stock b starts out at 10 equivalent to the whole budget when the $r_{au}$ value is between 0 and 3. For larger $r_{au}$ values the investment in stock b descreases. When the $r_{au}$ value is more than 6.5 investment in stock b is 0. The explanation is that when $r_{au}$ increaces so does the expected value for stock a, and becauce the investor seeks the highest payoffs, he switch stock b for a."
   ]
  },
  {
   "cell_type": "markdown",
   "metadata": {},
   "source": [
    "# Ammending the utility functions"
   ]
  },
  {
   "cell_type": "markdown",
   "metadata": {},
   "source": [
    "**3.1: Risk neutral investor**"
   ]
  },
  {
   "cell_type": "markdown",
   "metadata": {},
   "source": [
    "We now consider an investor with a linear utility function $ u(w) = 2 \\cdot w $. Otherwise nothing is changed. "
   ]
  },
  {
   "cell_type": "code",
   "execution_count": 35,
   "metadata": {},
   "outputs": [
    {
     "name": "stdout",
     "output_type": "stream",
     "text": [
      "Optimization terminated successfully.    (Exit mode 0)\n",
      "            Current function value: -199.99999999997644\n",
      "            Iterations: 3\n",
      "            Function evaluations: 12\n",
      "            Gradient evaluations: 3\n",
      "[10.  0.]\n",
      "10.0\n",
      "8.5\n"
     ]
    }
   ],
   "source": [
    "# Defining the parameter values for all our predetermined unknowns  \n",
    "q_a=10\n",
    "q_b=10\n",
    "w0 = 100\n",
    "p=0.5\n",
    "rau=15\n",
    "rbu=5\n",
    "rad=5\n",
    "rbd=12\n",
    "\n",
    "# Defining the utility functions, now as an investor with riskneutrality, that is a linear utility function\n",
    "def u_u(a,b):\n",
    "    return 2*(a*rau+b*rbu)\n",
    "def u_d(a,b):\n",
    "    return 2*(a*rad+b*rbd)\n",
    "\n",
    "# Defining the joint expected utility function, and defining the python-compatible version for use in the optimization, that is defining the shares in a tuple\n",
    "def E_u(a,b):\n",
    "    return -(p*u_u(a,b)+(1-p)*u_d(a,b))\n",
    "def E_ux(x):\n",
    "    return E_u(x[0],x[1])\n",
    "\n",
    "# Defining the budget constraint, the bounds, and the initial guess\n",
    "def ineq_constraint(x):\n",
    "    return w0 - x[0]*q_a-x[1]*q_b\n",
    "bound = (0,q_a*w0)\n",
    "bounds = (bound,bound)\n",
    "ineq_con = {'type':'ineq','fun': ineq_constraint}\n",
    "initial_guess = [5,5]\n",
    "\n",
    "# Optimizing and printing the result\n",
    "result = optimize.minimize(E_ux,initial_guess,method='SLSQP',bounds=bounds,constraints=[ineq_con],options={'disp':True})\n",
    "print(result.x)\n",
    "\n",
    "a_mean = [rau,rad]\n",
    "print(np.mean(a_mean))\n",
    "b_mean = [rbu,rbd]\n",
    "print(np.mean(b_mean))"
   ]
  },
  {
   "cell_type": "markdown",
   "metadata": {},
   "source": [
    "Deduction: the result of the optimizing behaviour is to allocate all ressources to buy stock a. This is complying with the general theory of riskneutrality, which implies that the investor should choose to invest only in the stock that yields the most, not caring for the risks involved. Expressed is the expected return (=mean)"
   ]
  },
  {
   "cell_type": "markdown",
   "metadata": {},
   "source": [
    "**3.2: Risk loving investor**"
   ]
  },
  {
   "cell_type": "markdown",
   "metadata": {},
   "source": [
    "We now consider an investor with a convex utility function $ u(w) = w^2 $. Otherwise nothing is changed. "
   ]
  },
  {
   "cell_type": "code",
   "execution_count": 36,
   "metadata": {},
   "outputs": [
    {
     "name": "stdout",
     "output_type": "stream",
     "text": [
      "Optimization terminated successfully.    (Exit mode 0)\n",
      "            Current function value: -12499.992052294274\n",
      "            Iterations: 6\n",
      "            Function evaluations: 8\n",
      "            Gradient evaluations: 2\n",
      "[9.99999682 0.        ]\n",
      "5.0\n",
      "3.5\n"
     ]
    }
   ],
   "source": [
    "# Defining the utility functions, now as an investor that is risk loving, that is a convex utility function\n",
    "def u_u(a,b):\n",
    "    return (a*rau+b*rbu)**2\n",
    "def u_d(a,b):\n",
    "    return (a*rad+b*rbd)**2\n",
    "\n",
    "# Defining the joint expected utility function, and defining the python-compatible version for use in the optimization, that is defining the shares in a tuple\n",
    "def E_u(a,b):\n",
    "    return -(p*u_u(a,b)+(1-p)*u_d(a,b))\n",
    "def E_ux(x):\n",
    "    return E_u(x[0],x[1])\n",
    "\n",
    "# Defining the budget constraint, the bounds, and the initial guess\n",
    "def ineq_constraint(x):\n",
    "    return w0 - x[0]*q_a-x[1]*q_b\n",
    "bound = (0,q_a*w0)\n",
    "bounds = (bound,bound)\n",
    "ineq_con = {'type':'ineq','fun': ineq_constraint}\n",
    "initial_guess = [9,1]\n",
    "\n",
    "# Optimizing and printing the result\n",
    "result = optimize.minimize(E_ux,initial_guess,method='SLSQP',bounds=bounds,constraints=[ineq_con],options={'disp':True})\n",
    "print(result.x)\n",
    "\n",
    "a_std = [rau,rad]\n",
    "print(np.std(a_std))\n",
    "b_std = [rbu,rbd]\n",
    "print(np.std(b_std))"
   ]
  },
  {
   "cell_type": "markdown",
   "metadata": {},
   "source": [
    "Deduction: the result of the optimizing behaviour is to allocate all ressources to buy stock a. This is complying with the general theory of risk loving, which implies that the investor should choose to invest only in the stock that has the highest risk, not caring for yield involved. Expressed is the standard deviation."
   ]
  },
  {
   "cell_type": "markdown",
   "metadata": {},
   "source": [
    "# Extensions: more stocks and outcomes  "
   ]
  },
  {
   "cell_type": "markdown",
   "metadata": {},
   "source": [
    "**4.1: A model with three stocks:** First we will extend the model with one more stock: c. This stock will be a risk free asset and will therefore have the same payoff in the two outcomes. the problem can be written as: \n",
    "$$ max_{a,b,c} \\quad E(u(w_1)) = p \\cdot \\sqrt{w_{1u}} + (1-p) \\cdot \\sqrt{w_{1d}} \\\\ \n",
    "w_1 = a \\cdot r_{a} + b \\cdot r_b+c \\cdot r_c \\\\ \n",
    "w_0 \\geq a \\cdot q_{a} + b \\cdot q_b +c \\cdot q_c\\\\\n",
    "a,b,c \\geq 0 $$ "
   ]
  },
  {
   "cell_type": "code",
   "execution_count": 37,
   "metadata": {},
   "outputs": [
    {
     "name": "stdout",
     "output_type": "stream",
     "text": [
      "Optimization terminated successfully.    (Exit mode 0)\n",
      "            Current function value: -9.698176314105153\n",
      "            Iterations: 7\n",
      "            Function evaluations: 35\n",
      "            Gradient evaluations: 7\n",
      "\n",
      "x =  [6.84291448 0.27421306 2.88287246]\n"
     ]
    }
   ],
   "source": [
    "# The parameters are defined. The two new ones are rcu and rcd, the payoff for stock c in the outcome u and d.\n",
    "w0 = 100\n",
    "p = 0.5\n",
    "qa = 10\n",
    "qb = 10\n",
    "qc = 10\n",
    "rau = 15\n",
    "rbu = 5\n",
    "rcu = 9.1\n",
    "rad = 5\n",
    "rbd = 12\n",
    "rcd = 9.1\n",
    "\n",
    "# We define the two new utility functions for the two outcomes, now with the payoff for stock c.\n",
    "def utilityu(a,b,c):\n",
    "    return np.sqrt(a*rau+b*rbu+c*rcu)\n",
    "def utilityd(a,b,c):\n",
    "    return np.sqrt(a*rad+b*rbd+c*rcd)\n",
    "# We define overall expected utility function and make the values of a, b and c into a tuple.\n",
    "def _Eu(a,b,c):\n",
    "    return -(p*utilityu(a,b,c)+(1-p)*utilityd(a,b,c))\n",
    "def Eu(x):\n",
    "    return _Eu(x[0],x[1],x[2])\n",
    "# We define the budget constraint. It is violated if negative.\n",
    "def ineq_constraint(x):\n",
    "    return w0 - x[0]*qa-x[1]*qb-x[2]*qc\n",
    "# We set up the same bound for a, b and c: 0 to the whole budget can be used on any of them.\n",
    "bound = (0,qa*w0)\n",
    "bounds = (bound, bound, bound)\n",
    "ineq_con = {'type': 'ineq', 'fun': ineq_constraint}\n",
    "\n",
    "# We call optimizer using the method SLSQP, which can use bounds and constraints in multiple dimensions.\n",
    "initial_guess = [3,3,3] # fit the equality constraint\n",
    "result = optimize.minimize(Eu,initial_guess,method='SLSQP',bounds=bounds,constraints=[ineq_con],options={'disp':True})\n",
    "\n",
    "print('\\nx = ',result.x)"
   ]
  },
  {
   "cell_type": "markdown",
   "metadata": {},
   "source": [
    "The invesor chooses 6.84 units of stock a, 0.27 units of stock b and 2.88 units of stock c. This particular combinations can be explained by the expected paysoffs and the risk of the stocks. As we have looked at in section 3: the investor is risk-averse. Stock a is chosen before b and c because of the relativly higher expected return: even thou it is possible to have a payoff on 9.1 for certain in stock b the investor is not risk-averse enough to give op the extra expected payoffs in stock a. Stock c is chosen before b because is has both lower risk and higher expected return."
   ]
  },
  {
   "cell_type": "markdown",
   "metadata": {},
   "source": [
    "**4.2: A model with three outcomes:** Now we will extend the model with one more outcome: m. This will be a medium outcome with the payoff, 8, for a and 10 for b. The probality for the three different outcomes will all be 1/3. the problem can be written as: \n",
    "$$ max_{a,b} \\quad E(u(w_1)) = p \\cdot \\sqrt{w_{1u}} + t \\cdot \\sqrt{w_{1d}} + (1-p-t)\\cdot \\sqrt{w_{1m}} \\\\ \n",
    "w_1 = a \\cdot r_{a} + b \\cdot r_b \\\\ \n",
    "w_0 \\geq a \\cdot q_{a} + b \\cdot q_b \\\\\n",
    "a,b \\geq 0 $$ "
   ]
  },
  {
   "cell_type": "code",
   "execution_count": 38,
   "metadata": {},
   "outputs": [
    {
     "name": "stdout",
     "output_type": "stream",
     "text": [
      "Optimization terminated successfully.    (Exit mode 0)\n",
      "            Current function value: -9.569689334643734\n",
      "            Iterations: 6\n",
      "            Function evaluations: 24\n",
      "            Gradient evaluations: 6\n",
      "\n",
      "x =  [5.36024968 4.63975032]\n"
     ]
    }
   ],
   "source": [
    "# The parameters are defined. The three new ones are t, ram and rbm:\n",
    "# the probability for outcome d and the payoff for stock a and b in outcome m.\n",
    "w0 = 100\n",
    "p = 1/3\n",
    "t = 1/3\n",
    "qa = 10\n",
    "qb = 10\n",
    "rau = 15\n",
    "rbu = 5\n",
    "rad = 5\n",
    "rbd = 12\n",
    "ram = 8\n",
    "rbm = 10\n",
    "\n",
    "# We define the three utility functions for the three outcomes, now with the utility function for outcome m.\n",
    "def utilityu(a,b):\n",
    "    return np.sqrt(a*rau+b*rbu)\n",
    "def utilityd(a,b):\n",
    "    return np.sqrt(a*rad+b*rbd)\n",
    "def utilitym(a,b):\n",
    "    return np.sqrt(a*ram+b*rbm)\n",
    "# We define overall expected utility function and make the values of a, b into a tuple.\n",
    "def _Eu(a,b):\n",
    "    return -(p*utilityu(a,b)+t*utilityd(a,b)+(1-p-t)*utilitym(a,b))\n",
    "def Eu(x):\n",
    "    return _Eu(x[0],x[1])\n",
    "# We define the budget constraint. It is violated if negative.\n",
    "def ineq_constraint(x):\n",
    "    return w0 - x[0]*qa-x[1]*qb\n",
    "# We set up the same bound for a and b: 0 to the whole budget can be used on any of them.\n",
    "bound = (0,qa*w0)\n",
    "bounds = (bound, bound)\n",
    "ineq_con = {'type': 'ineq', 'fun': ineq_constraint}\n",
    "\n",
    "# We call optimizer using the method SLSQP, which can use bounds and constraints in multiple dimensions.\n",
    "initial_guess = [5,5] # fit the equality constraint\n",
    "result = optimize.minimize(Eu,initial_guess,method='SLSQP',bounds=bounds,constraints=[ineq_con],options={'disp':True})\n",
    "\n",
    "print('\\nx = ',result.x)\n",
    "    "
   ]
  },
  {
   "cell_type": "markdown",
   "metadata": {},
   "source": [
    "The invesor chooses 5.36 units of stock a and 4.64 units of stock b. The share of stock b has increased alot Compared to the model in section 1. The explanation is that the expected value for b has increased from 8.5 to 9. The expected return on stock a is still the largest with 9.3 and therefore still has the largest share."
   ]
  },
  {
   "cell_type": "markdown",
   "metadata": {},
   "source": [
    "# Conclusion"
   ]
  },
  {
   "cell_type": "markdown",
   "metadata": {},
   "source": [
    "In this project we have seen that the preferences for risk and expected return, impacts the choice of the portfolio composition between the two stocks very much, in relation to the different utility functions that we have evaluated in this project. "
   ]
  }
 ],
 "metadata": {
  "kernelspec": {
   "display_name": "Python 3",
   "language": "python",
   "name": "python3"
  },
  "language_info": {
   "codemirror_mode": {
    "name": "ipython",
    "version": 3
   },
   "file_extension": ".py",
   "mimetype": "text/x-python",
   "name": "python",
   "nbconvert_exporter": "python",
   "pygments_lexer": "ipython3",
   "version": "3.7.6"
  }
 },
 "nbformat": 4,
 "nbformat_minor": 4
}
